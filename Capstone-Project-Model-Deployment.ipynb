{
 "cells": [
  {
   "cell_type": "markdown",
   "metadata": {},
   "source": [
    "<a href=\"https://cognitiveclass.ai/\">\n",
    "    <img src=\"https://s3-api.us-geo.objectstorage.softlayer.net/cf-courses-data/CognitiveClass/CV0101/Logo/SNLogo.png\" width=\"200\" align=\"center\">\n",
    "</a>"
   ]
  },
  {
   "cell_type": "markdown",
   "metadata": {},
   "source": [
    "<h2>Deploying Your Computer Vision Model on IBM Cloud</h2>\n",
    "<p>For the capstone project of this course, you will be training a custom classifier using Watson Visual Recognition to identify furniture, in particular <b>Tables</b>, <b>Beds</b> and <b>Chairs</b>. After training your model you are then going to connect your trained custom classifier to a <b>Flask</b> app. <b>Flask</b> is a python web framework used for making web apps. You are then going to deploy your <b>Flask</b> app to IBM Cloud. Once your app is deployed on IBM Cloud you can access your <b>Flask</b> app via a webpage anywhere using a custom link.</p>\n",
    "\n",
    "<p>This link will be used by your peers to assess your project. In your web app, your peers will be able to upload an image, which will then be classified using your custom classifier you connected in the web app. Your project will be graded by how accurately your app can classify <b>Tables</b>, <b>Beds</b> and <b>Chairs</b>.<p>"
   ]
  },
  {
   "cell_type": "markdown",
   "metadata": {},
   "source": [
    "<div class=\"alert alert-block alert-info\" style=\"margin-top: 20px\">\n",
    "<font size=\"3\"><strong>Click on the links to go to the following sections:</strong></font>\n",
    "<br>\n",
    "<h2>Table of Contents</h2>\n",
    "<ol>\n",
    "    <li><a href=\"#ref1\">Part 1 - Training Your Custom Model</a></li>\n",
    "    <li><a href=\"#ref2\">Part 2 - Downloading and Configuring the Flask Web App</a></li>\n",
    "    <li><a href=\"#ref4\">Part 3 - Deploying Your Web App to IBM Cloud</a></li>\n",
    "</ol>    \n",
    "</div>"
   ]
  },
  {
   "cell_type": "markdown",
   "metadata": {},
   "source": [
    "<div style=\"background-color: #fcf2f2\">\n",
    "<h2>Note!</h2> \n",
    "<p>Since the lite plan only allows for  a maximum of 2 custom classifiers, you should not have more than 1 custom classifier running in your Watson Visual Recognition Instance. You might want to delete one of your custom classifier from your Watson Visual Recognition Instance.</p>\n",
    "<p>Log into your IBM Cloud Account with the following link - <a href=\"https://cocl.us/CV0101EN_IBM_Cloud_Login\">https://cloud.ibm.com</a></p>\n",
    "<ol>\n",
    "    <li>Click on Services</li>\n",
    "    <li>Under Services, select your Watson Visual Recognition Instance</li>\n",
    "    <li> Click on Show Credentials, and note the API Key. We will be using this API Key to connect your custom classifier to your web app </li>\n",
    "    <img src=\"https://s3-api.us-geo.objectstorage.softlayer.net/cf-courses-data/CognitiveClass/CV0101/Images/API_Key.png\" width=\"680\">\n",
    "    <li><b>(Optional)</b> Delete one of your custom classifier if you have 2 of them in your Watson Visual Recognition Instance</li>\n",
    "</ol>\n",
    "<img src=\"https://s3-api.us-geo.objectstorage.softlayer.net/cf-courses-data/CognitiveClass/CV0101/Images/Delete-Instance.png\" width=\"680\">\n",
    "</div>"
   ]
  },
  {
   "cell_type": "markdown",
   "metadata": {},
   "source": [
    "<a id=\"ref1\"></a>\n",
    "<h2>Part 1 - Training Your Custom Model</h2>\n",
    "<p>For the first part of your capstone project, you have to obtain a dataset of <b>Tables</b>, <b>Beds</b> and <b>Chairs</b>. Next, you need to create a custom classifier based upon this dataset and train your custom model with this dataset. Creating and training a custom classifier has been covered in previous modules of this course. Make sure your custom visual recognition model classifies <b>Tables</b>, <b>Beds</b> and <b>Chairs</b> correctly, because <b>25%</b> of your grade for this project will be determined by if your trained custom classifier can identify a piece of furniture correctly with a high level of confidence. Also note the classifier id for this custom classifier as you will use this to connect your web app to your custom classifier in the next part.</p>"
   ]
  },
  {
   "cell_type": "markdown",
   "metadata": {},
   "source": [
    "<a id=\"ref1\"></a>\n",
    "<h2>IBM Watson Package</h2>\n",
    "Launch IBM Watson and OpenCV\n"
   ]
  },
  {
   "cell_type": "code",
   "execution_count": 37,
   "metadata": {},
   "outputs": [
    {
     "name": "stdout",
     "output_type": "stream",
     "text": [
      "Requirement already up-to-date: ibm-watson in /home/jupyterlab/conda/envs/python/lib/python3.6/site-packages (4.1.0)\n",
      "Requirement already up-to-date: opencv-python in /home/jupyterlab/conda/envs/python/lib/python3.6/site-packages (4.1.2.30)\n",
      "Requirement already satisfied, skipping upgrade: websocket-client==0.48.0 in /home/jupyterlab/conda/envs/python/lib/python3.6/site-packages (from ibm-watson) (0.48.0)\n",
      "Requirement already satisfied, skipping upgrade: python-dateutil>=2.5.3 in /home/jupyterlab/conda/envs/python/lib/python3.6/site-packages (from ibm-watson) (2.8.1)\n",
      "Requirement already satisfied, skipping upgrade: ibm-cloud-sdk-core==1.0.0 in /home/jupyterlab/conda/envs/python/lib/python3.6/site-packages (from ibm-watson) (1.0.0)\n",
      "Requirement already satisfied, skipping upgrade: requests<3.0,>=2.0 in /home/jupyterlab/conda/envs/python/lib/python3.6/site-packages (from ibm-watson) (2.22.0)\n",
      "Requirement already satisfied, skipping upgrade: numpy>=1.11.3 in /home/jupyterlab/conda/envs/python/lib/python3.6/site-packages (from opencv-python) (1.16.2)\n",
      "Requirement already satisfied, skipping upgrade: six in /home/jupyterlab/conda/envs/python/lib/python3.6/site-packages (from websocket-client==0.48.0->ibm-watson) (1.13.0)\n",
      "Requirement already satisfied, skipping upgrade: PyJWT>=1.7.1 in /home/jupyterlab/conda/envs/python/lib/python3.6/site-packages (from ibm-cloud-sdk-core==1.0.0->ibm-watson) (1.7.1)\n",
      "Requirement already satisfied, skipping upgrade: urllib3!=1.25.0,!=1.25.1,<1.26,>=1.21.1 in /home/jupyterlab/conda/envs/python/lib/python3.6/site-packages (from requests<3.0,>=2.0->ibm-watson) (1.25.7)\n",
      "Requirement already satisfied, skipping upgrade: chardet<3.1.0,>=3.0.2 in /home/jupyterlab/conda/envs/python/lib/python3.6/site-packages (from requests<3.0,>=2.0->ibm-watson) (3.0.4)\n",
      "Requirement already satisfied, skipping upgrade: idna<2.9,>=2.5 in /home/jupyterlab/conda/envs/python/lib/python3.6/site-packages (from requests<3.0,>=2.0->ibm-watson) (2.8)\n",
      "Requirement already satisfied, skipping upgrade: certifi>=2017.4.17 in /home/jupyterlab/conda/envs/python/lib/python3.6/site-packages (from requests<3.0,>=2.0->ibm-watson) (2019.9.11)\n"
     ]
    }
   ],
   "source": [
    "! pip install --upgrade ibm-watson opencv-python"
   ]
  },
  {
   "cell_type": "markdown",
   "metadata": {},
   "source": [
    "<a id=\"ref2\"></a>\n",
    "<h2>Plotting images in Jupyter Notebooks</h2>\n",
    "Function for plotting image"
   ]
  },
  {
   "cell_type": "code",
   "execution_count": 38,
   "metadata": {},
   "outputs": [],
   "source": [
    "import cv2\n",
    "import urllib.request\n",
    "from matplotlib import pyplot as plt\n",
    "from pylab import rcParams\n",
    "\n",
    "def plt_image(image_url, size = (10,8)):\n",
    "\n",
    "    # Downloads an image from a URL, and displays it in the notebook\n",
    "    urllib.request.urlretrieve(image_url, \"image.jpg\") # downloads file as \"image.jpg\"\n",
    "    image = cv2.imread(\"image.jpg\")\n",
    "    \n",
    "    # If image is in color, then correct color coding from BGR to RGB\n",
    "    if len(image.shape) == 3:\n",
    "        image = cv2.cvtColor(image, cv2.COLOR_BGR2RGB)\n",
    "    \n",
    "    rcParams['figure.figsize'] = size[0], size[1] #set image display size\n",
    "\n",
    "    plt.axis(\"off\")\n",
    "    plt.imshow(image, cmap=\"Greys_r\")\n",
    "    plt.show()"
   ]
  },
  {
   "cell_type": "markdown",
   "metadata": {},
   "source": [
    "Exampe image plot"
   ]
  },
  {
   "cell_type": "markdown",
   "metadata": {},
   "source": [
    "# IBM Watson API key"
   ]
  },
  {
   "cell_type": "code",
   "execution_count": 39,
   "metadata": {},
   "outputs": [],
   "source": [
    "my_apikey = 'qzFYiynZB-GBBhMsnIdOEVOHXHqXdchFgNYbLVFX2maV'"
   ]
  },
  {
   "cell_type": "markdown",
   "metadata": {},
   "source": [
    "<h4>Initialize Watson Visual Recognition</h4>"
   ]
  },
  {
   "cell_type": "code",
   "execution_count": 40,
   "metadata": {},
   "outputs": [],
   "source": [
    "from ibm_watson import VisualRecognitionV3\n",
    "from ibm_cloud_sdk_core.authenticators import IAMAuthenticator\n",
    "authenticator = IAMAuthenticator(my_apikey)\n",
    "\n",
    "visrec = VisualRecognitionV3('2019-12-10', \n",
    "                             authenticator=authenticator)"
   ]
  },
  {
   "cell_type": "markdown",
   "metadata": {},
   "source": [
    "# Training Classifier"
   ]
  },
  {
   "cell_type": "markdown",
   "metadata": {},
   "source": [
    "Image recognition model will be trained with 'table', 'chair' and 'bed' image dataset into following files:\n",
    "<ul>\n",
    "    <li>table.zip</li>\n",
    "    <li>chair.zip</li>\n",
    "    <li>bed.zip</li>\n",
    "</ul>\n",
    "All the images were downloaded from various websites in Google. The files were categorized, zipped and uploaded in the current directory of 'Skills Network Labs'"
   ]
  },
  {
   "cell_type": "markdown",
   "metadata": {},
   "source": [
    "<p>Lets train the Visual Recognition model to recognize the three furniture types using the <b>create_classifier</b> method from the Watson Image Reconition API.</p>"
   ]
  },
  {
   "cell_type": "code",
   "execution_count": 70,
   "metadata": {},
   "outputs": [
    {
     "name": "stdout",
     "output_type": "stream",
     "text": [
      "[\n",
      "  {\n",
      "    \"classifier_id\": \"furnitureclassifier_1136413941\",\n",
      "    \"name\": \"furnitureclassifier\",\n",
      "    \"status\": \"ready\",\n",
      "    \"owner\": \"f135aaec-7451-4d18-ab62-886846cd563e\",\n",
      "    \"created\": \"2019-12-10T10:01:12.549Z\",\n",
      "    \"updated\": \"2019-12-10T10:01:12.549Z\",\n",
      "    \"classes\": [\n",
      "      {\n",
      "        \"class\": \"bed\"\n",
      "      },\n",
      "      {\n",
      "        \"class\": \"chair\"\n",
      "      },\n",
      "      {\n",
      "        \"class\": \"table\"\n",
      "      }\n",
      "    ],\n",
      "    \"core_ml_enabled\": true\n",
      "  }\n",
      "]\n"
     ]
    }
   ],
   "source": [
    "# deleting any excess classifier running in excess of 2\n",
    "import json\n",
    "\n",
    "classifiers = visrec.list_classifiers(verbose=True).get_result()['classifiers']\n",
    "print(json.dumps(classifiers, indent=2))\n"
   ]
  },
  {
   "cell_type": "code",
   "execution_count": 69,
   "metadata": {},
   "outputs": [
    {
     "data": {
      "text/plain": [
       "<ibm_cloud_sdk_core.detailed_response.DetailedResponse at 0x7f7e58f9fe10>"
      ]
     },
     "execution_count": 69,
     "metadata": {},
     "output_type": "execute_result"
    }
   ],
   "source": [
    "# mycid = 'furnitureclassifier_640381817' #the classifier id you want to delete\n",
    "# visrec.delete_classifier(classifier_id = mycid)"
   ]
  },
  {
   "cell_type": "code",
   "execution_count": 54,
   "metadata": {},
   "outputs": [
    {
     "name": "stdout",
     "output_type": "stream",
     "text": [
      "{\n",
      "  \"classifier_id\": \"furnitureclassifier_1136413941\",\n",
      "  \"name\": \"furnitureclassifier\",\n",
      "  \"status\": \"training\",\n",
      "  \"owner\": \"f135aaec-7451-4d18-ab62-886846cd563e\",\n",
      "  \"created\": \"2019-12-10T10:01:12.549Z\",\n",
      "  \"updated\": \"2019-12-10T10:01:12.549Z\",\n",
      "  \"classes\": [\n",
      "    {\n",
      "      \"class\": \"bed\"\n",
      "    },\n",
      "    {\n",
      "      \"class\": \"chair\"\n",
      "    },\n",
      "    {\n",
      "      \"class\": \"table\"\n",
      "    }\n",
      "  ],\n",
      "  \"core_ml_enabled\": true\n",
      "}\n"
     ]
    }
   ],
   "source": [
    "import json\n",
    "with open('table.zip', 'rb') as table, \\\n",
    "     open('chair.zip', 'rb') as chair, \\\n",
    "     open('bed.zip', 'rb') as bed:\n",
    "        response = visrec.create_classifier(name=\"furnitureclassifier\",\n",
    "                                        positive_examples={'table': table, \\\n",
    "                                                           'chair': chair, \\\n",
    "                                                           'bed': bed})\n",
    "print(json.dumps(response.get_result(), indent=2))"
   ]
  },
  {
   "cell_type": "code",
   "execution_count": null,
   "metadata": {},
   "outputs": [],
   "source": []
  },
  {
   "cell_type": "code",
   "execution_count": 80,
   "metadata": {},
   "outputs": [
    {
     "data": {
      "text/plain": [
       "'furnitureclassifier_1136413941'"
      ]
     },
     "execution_count": 80,
     "metadata": {},
     "output_type": "execute_result"
    }
   ],
   "source": [
    "#Grabbing the classifier id\n",
    "classifier_id = response.get_result()[\"classifier_id\"]\n",
    "classifier_id"
   ]
  },
  {
   "cell_type": "code",
   "execution_count": 81,
   "metadata": {},
   "outputs": [
    {
     "data": {
      "text/plain": [
       "'ready'"
      ]
     },
     "execution_count": 81,
     "metadata": {},
     "output_type": "execute_result"
    }
   ],
   "source": [
    "# Checking if the model is still training\n",
    "visrec.get_classifier(classifier_id=classifier_id, verbose=True).get_result()['status']"
   ]
  },
  {
   "cell_type": "code",
   "execution_count": 82,
   "metadata": {},
   "outputs": [
    {
     "data": {
      "text/plain": [
       "{'classifiers': [{'classifier_id': 'furnitureclassifier_1136413941',\n",
       "   'name': 'furnitureclassifier',\n",
       "   'status': 'ready',\n",
       "   'owner': 'f135aaec-7451-4d18-ab62-886846cd563e',\n",
       "   'created': '2019-12-10T10:01:12.549Z',\n",
       "   'updated': '2019-12-10T10:01:12.549Z',\n",
       "   'classes': [{'class': 'bed'}, {'class': 'chair'}, {'class': 'table'}],\n",
       "   'core_ml_enabled': True}]}"
      ]
     },
     "execution_count": 82,
     "metadata": {},
     "output_type": "execute_result"
    }
   ],
   "source": [
    "# List all the classifiers\n",
    "visrec.list_classifiers(verbose=True).get_result()"
   ]
  },
  {
   "cell_type": "markdown",
   "metadata": {},
   "source": [
    "<a id=\"ref4\"></a>\n",
    "<h2>Testing Classifier</h2>"
   ]
  },
  {
   "cell_type": "code",
   "execution_count": 85,
   "metadata": {},
   "outputs": [],
   "source": [
    "from pandas.io.json import json_normalize\n",
    "\n",
    "def getdf_visrec(url, classifier_ids, apikey = my_apikey):\n",
    "    \n",
    "    json_result = visrec.classify(url=url,\n",
    "                              threshold='0.6',\n",
    "                              classifier_ids=classifier_ids).get_result()\n",
    "    \n",
    "    json_classes = json_result['images'][0]['classifiers'][0]['classes']\n",
    "    \n",
    "    df = json_normalize(json_classes).sort_values('score', ascending=False).reset_index(drop=True)\n",
    "    \n",
    "    return df"
   ]
  },
  {
   "cell_type": "code",
   "execution_count": 86,
   "metadata": {},
   "outputs": [
    {
     "name": "stderr",
     "output_type": "stream",
     "text": [
      "ERROR:root:Unknown error\n",
      "Traceback (most recent call last):\n",
      "  File \"/home/jupyterlab/conda/envs/python/lib/python3.6/site-packages/ibm_cloud_sdk_core/base_service.py\", line 157, in send\n",
      "    response.status_code, error_message, http_response=response)\n",
      "ibm_cloud_sdk_core.api_exception.ApiException: Error: Unknown error, Code: 400 , X-global-transaction-id: b6357be5d0e5f31eec92f6363fdb563c\n"
     ]
    },
    {
     "ename": "ApiException",
     "evalue": "Error: Unknown error, Code: 400 , X-global-transaction-id: b6357be5d0e5f31eec92f6363fdb563c",
     "output_type": "error",
     "traceback": [
      "\u001b[0;31m---------------------------------------------------------------------------\u001b[0m",
      "\u001b[0;31mApiException\u001b[0m                              Traceback (most recent call last)",
      "\u001b[0;32m<ipython-input-86-20c14d6da3c5>\u001b[0m in \u001b[0;36m<module>\u001b[0;34m\u001b[0m\n\u001b[1;32m      1\u001b[0m getdf_visrec(url = 'https://labs.cognitiveclass.ai/tools/jupyterlab/lab/tree/labs/CV0101EN/table_test.jpg',\n\u001b[0;32m----> 2\u001b[0;31m             classifier_ids=classifier_id)\n\u001b[0m",
      "\u001b[0;32m<ipython-input-85-27cf083dd4aa>\u001b[0m in \u001b[0;36mgetdf_visrec\u001b[0;34m(url, classifier_ids, apikey)\u001b[0m\n\u001b[1;32m      5\u001b[0m     json_result = visrec.classify(url=url,\n\u001b[1;32m      6\u001b[0m                               \u001b[0mthreshold\u001b[0m\u001b[0;34m=\u001b[0m\u001b[0;34m'0.6'\u001b[0m\u001b[0;34m,\u001b[0m\u001b[0;34m\u001b[0m\u001b[0;34m\u001b[0m\u001b[0m\n\u001b[0;32m----> 7\u001b[0;31m                               classifier_ids=classifier_ids).get_result()\n\u001b[0m\u001b[1;32m      8\u001b[0m \u001b[0;34m\u001b[0m\u001b[0m\n\u001b[1;32m      9\u001b[0m     \u001b[0mjson_classes\u001b[0m \u001b[0;34m=\u001b[0m \u001b[0mjson_result\u001b[0m\u001b[0;34m[\u001b[0m\u001b[0;34m'images'\u001b[0m\u001b[0;34m]\u001b[0m\u001b[0;34m[\u001b[0m\u001b[0;36m0\u001b[0m\u001b[0;34m]\u001b[0m\u001b[0;34m[\u001b[0m\u001b[0;34m'classifiers'\u001b[0m\u001b[0;34m]\u001b[0m\u001b[0;34m[\u001b[0m\u001b[0;36m0\u001b[0m\u001b[0;34m]\u001b[0m\u001b[0;34m[\u001b[0m\u001b[0;34m'classes'\u001b[0m\u001b[0;34m]\u001b[0m\u001b[0;34m\u001b[0m\u001b[0;34m\u001b[0m\u001b[0m\n",
      "\u001b[0;32m~/conda/envs/python/lib/python3.6/site-packages/ibm_watson/visual_recognition_v3.py\u001b[0m in \u001b[0;36mclassify\u001b[0;34m(self, images_file, images_filename, images_file_content_type, url, threshold, owners, classifier_ids, accept_language, **kwargs)\u001b[0m\n\u001b[1;32m    182\u001b[0m                                        \u001b[0mfiles\u001b[0m\u001b[0;34m=\u001b[0m\u001b[0mform_data\u001b[0m\u001b[0;34m,\u001b[0m\u001b[0;34m\u001b[0m\u001b[0;34m\u001b[0m\u001b[0m\n\u001b[1;32m    183\u001b[0m                                        accept_json=True)\n\u001b[0;32m--> 184\u001b[0;31m         \u001b[0mresponse\u001b[0m \u001b[0;34m=\u001b[0m \u001b[0mself\u001b[0m\u001b[0;34m.\u001b[0m\u001b[0msend\u001b[0m\u001b[0;34m(\u001b[0m\u001b[0mrequest\u001b[0m\u001b[0;34m)\u001b[0m\u001b[0;34m\u001b[0m\u001b[0;34m\u001b[0m\u001b[0m\n\u001b[0m\u001b[1;32m    185\u001b[0m         \u001b[0;32mreturn\u001b[0m \u001b[0mresponse\u001b[0m\u001b[0;34m\u001b[0m\u001b[0;34m\u001b[0m\u001b[0m\n\u001b[1;32m    186\u001b[0m \u001b[0;34m\u001b[0m\u001b[0m\n",
      "\u001b[0;32m~/conda/envs/python/lib/python3.6/site-packages/ibm_cloud_sdk_core/base_service.py\u001b[0m in \u001b[0;36msend\u001b[0;34m(self, request, **kwargs)\u001b[0m\n\u001b[1;32m    155\u001b[0m                                     \u001b[0;34m'invalid credentials'\u001b[0m\u001b[0;34m\u001b[0m\u001b[0;34m\u001b[0m\u001b[0m\n\u001b[1;32m    156\u001b[0m                 raise ApiException(\n\u001b[0;32m--> 157\u001b[0;31m                     response.status_code, error_message, http_response=response)\n\u001b[0m\u001b[1;32m    158\u001b[0m         \u001b[0;32mexcept\u001b[0m \u001b[0mrequests\u001b[0m\u001b[0;34m.\u001b[0m\u001b[0mexceptions\u001b[0m\u001b[0;34m.\u001b[0m\u001b[0mSSLError\u001b[0m\u001b[0;34m:\u001b[0m\u001b[0;34m\u001b[0m\u001b[0;34m\u001b[0m\u001b[0m\n\u001b[1;32m    159\u001b[0m             \u001b[0mlogging\u001b[0m\u001b[0;34m.\u001b[0m\u001b[0mexception\u001b[0m\u001b[0;34m(\u001b[0m\u001b[0mself\u001b[0m\u001b[0;34m.\u001b[0m\u001b[0mERROR_MSG_DISABLE_SSL\u001b[0m\u001b[0;34m)\u001b[0m\u001b[0;34m\u001b[0m\u001b[0;34m\u001b[0m\u001b[0m\n",
      "\u001b[0;31mApiException\u001b[0m: Error: Unknown error, Code: 400 , X-global-transaction-id: b6357be5d0e5f31eec92f6363fdb563c"
     ]
    }
   ],
   "source": [
    "getdf_visrec(url = 'https://labs.cognitiveclass.ai/tools/jupyterlab/lab/tree/labs/CV0101EN/table_test.jpg',\n",
    "            classifier_ids=classifier_id)"
   ]
  },
  {
   "cell_type": "markdown",
   "metadata": {},
   "source": [
    "<a id=\"ref2\"></a>\n",
    "<h2>Part 2 - Downloading and Configuring the Flask Web Appp</h2>\n",
    "<p>Once you are done training your custom classifier, you will have to deploy it on the web and provide a graphical user interface for people to interact with it. <b>Flask</b> is a lightweight web framework that allows us to do that. You will connect the web app with your custom classifier and deploy the app to IBM Cloud. By deploying the app to IBM Cloud, you could share your web app with your peers by simply sharing a link with them. Make sure complete this step successfully, since another <b> 10% </b> of your grade for the capstone project depends on completion of this step</p>\n",
    "\n",
    "<p>The code below downloads and unzips the Flask web app</p>"
   ]
  },
  {
   "cell_type": "code",
   "execution_count": null,
   "metadata": {},
   "outputs": [],
   "source": []
  },
  {
   "cell_type": "markdown",
   "metadata": {},
   "source": [
    "<h3>Downloading your Flask Appp</h3>"
   ]
  },
  {
   "cell_type": "code",
   "execution_count": 87,
   "metadata": {},
   "outputs": [
    {
     "name": "stdout",
     "output_type": "stream",
     "text": [
      "Collecting wget\n",
      "  Downloading https://files.pythonhosted.org/packages/47/6a/62e288da7bcda82b935ff0c6cfe542970f04e29c756b0e147251b2fb251f/wget-3.2.zip\n",
      "Building wheels for collected packages: wget\n",
      "  Building wheel for wget (setup.py) ... \u001b[?25ldone\n",
      "\u001b[?25h  Stored in directory: /home/jupyterlab/.cache/pip/wheels/40/15/30/7d8f7cea2902b4db79e3fea550d7d7b85ecb27ef992b618f3f\n",
      "Successfully built wget\n",
      "Installing collected packages: wget\n",
      "Successfully installed wget-3.2\n"
     ]
    }
   ],
   "source": [
    "!pip install wget"
   ]
  },
  {
   "cell_type": "code",
   "execution_count": 88,
   "metadata": {},
   "outputs": [],
   "source": [
    "import wget, zipfile, os\n",
    "\n",
    "filename = wget.download('https://s3.us.cloud-object-storage.appdomain.cloud/cf-courses-data/CognitiveClass/CV0101/Project/CV0101EN-capstone-project-new.zip')\n",
    "with zipfile.ZipFile(filename,\"r\") as zip_ref:\n",
    "    zip_ref.extractall()"
   ]
  },
  {
   "cell_type": "markdown",
   "metadata": {},
   "source": [
    "<h3>Configuring Your Flask App</h3>\n",
    "<p>In order to deploy your custom classifier, you need to give your Flask app permission to access it.</p>\n",
    "\n",
    "<p>At this point, you should see a folder of your web app (CV0101EN-capstone-project) listed in the files directory in the left-sidebar of the JupyterLab environment. If this sidemenu is hidden, you can go to <code>View>View Left-Sidebar</code>. Select the <code>CV0101EN-capstone-project</code>, and click on the <code>app</code> subfolder. You will see a file called <b>config.py</b>. Fill in <code>API_KEY</code> with your Watson Visual Recognition API_KEY, and <code>CLASSIFIER_ID</code> you noted down in part 1 of this notebook</p>\n",
    "\n",
    "#### Next, you will see a file <code>manifest.yml</code> Open the file, and make sure to change your app name to a name you'd like to give your app. Do NOT change anything else"
   ]
  },
  {
   "cell_type": "markdown",
   "metadata": {},
   "source": [
    "<a id=\"ref4\"></a>\n",
    "<h2>Part 3 - Deploying Your Web App to IBM Cloud</h2>\n",
    "<p> For the last part of your capstone project, you will deploy your web app to IBM Cloud in order for your peers to access it. Your peers will upload pictures of furniture in your app and will test the accuracy of your custom trained model. You will share a custom link of your web app with your peers in order for them to test the accuracy of your model. Deploying your project successfully is worth another<b> 15% </b> of your grade. The peer evaluation is worth <b> 50% </b> of your grade\n",
    "    \n",
    "<p>In order to deploy your project to the cloud, in the code cell below replace <code>email</code> and <code>password</code> with your email and password that you use for logging in to IBM Cloud\n",
    "</p>\n",
    "\n",
    "After replacing the values of `YOUR_IBMCLOUD_EMAIL` with your IBM Cloud email and `YOUR_IBMCLOUD_PASSWORD` with your password in the cell below, press \"ctrl + enter\" to login to your IBM Cloud account from the notebook"
   ]
  },
  {
   "cell_type": "code",
   "execution_count": 90,
   "metadata": {},
   "outputs": [
    {
     "name": "stdout",
     "output_type": "stream",
     "text": [
      "API endpoint: https://cloud.ibm.com\n",
      "\n",
      "Email> saimoom_026@yahoo.com\n",
      "\n",
      "Password> \n",
      "Authenticating...\n",
      "OK\n",
      "\n",
      "Targeted account Memorial University of Newfoundland (ac3c862b72bd49ebb4d0f14243491070) <-> 2002648\n",
      "\n",
      "                      \n",
      "API endpoint:      https://cloud.ibm.com   \n",
      "Region:               \n",
      "User:              saimoom_026@yahoo.com   \n",
      "Account:           Memorial University of Newfoundland (ac3c862b72bd49ebb4d0f14243491070) <-> 2002648   \n",
      "Resource group:    No resource group targeted, use 'ibmcloud target -g RESOURCE_GROUP'   \n",
      "CF API endpoint:      \n",
      "Org:                  \n",
      "Space:                \n",
      "\n",
      "Tip: If you are managing Cloud Foundry applications and services\n",
      "- Use 'ibmcloud target --cf' to target Cloud Foundry org/space interactively, or use 'ibmcloud target --cf-api ENDPOINT -o ORG -s SPACE' to target the org/space.\n",
      "- Use 'ibmcloud cf' if you want to run the Cloud Foundry CLI with current IBM Cloud CLI context.\n",
      "\n"
     ]
    }
   ],
   "source": [
    "%%bash\n",
    "ibmcloud config --check-version=false\n",
    "ibmcloud login --no-region\n",
    "saimoom_026@yahoo.com\n",
    "1246o6o6O26"
   ]
  },
  {
   "cell_type": "markdown",
   "metadata": {},
   "source": [
    "<br>\n",
    "<p>After the above cell finishes execution, run the code cell below. You will see your IBM cloud email listed under names. <b>Note the value of region corresponding to your email</b>. Your output should look something like this</p> <br>\n",
    "\n",
    "<img src=\"https://s3-api.us-geo.objectstorage.softlayer.net/cf-courses-data/CognitiveClass/CV0101/Images/Cloud_Foundry_Region.png\" width=\"680\">"
   ]
  },
  {
   "cell_type": "code",
   "execution_count": 91,
   "metadata": {},
   "outputs": [
    {
     "name": "stdout",
     "output_type": "stream",
     "text": [
      "Getting orgs in all regions as saimoom_026@yahoo.com...\n",
      "Retrieving current account...\n",
      "OK\n",
      "\n",
      "Name                    Region     Account owner           Account ID                         Status   \n",
      "saimoom_026@yahoo.com   us-south   saimoom_026@yahoo.com   ac3c862b72bd49ebb4d0f14243491070   active   \n",
      "\n"
     ]
    }
   ],
   "source": [
    "%%bash\n",
    "ibmcloud account orgs"
   ]
  },
  {
   "cell_type": "markdown",
   "metadata": {},
   "source": [
    "<br>\n",
    "<p> Next, replace both the values of <b>REGION</b> (i.e. in <b>https://api.REGION.cf.cloud.ibm.com</b> and <b>-r REGION</b>) in the code cell below with the value you noted above. For eg, if your region was <b>eu-gb</b> you would replace both values of <b>REGION</b> with <b>eu-gb</b> in the code cell below. Next, replace <b>ORG</b> with your <b>IBM Cloud email</b>. After doing this, kindly press \"ctrl+enter\" to execute your code cell. <b>Kindly run the below code cell ONLY ONCE</b> <br>"
   ]
  },
  {
   "cell_type": "code",
   "execution_count": 92,
   "metadata": {},
   "outputs": [
    {
     "name": "stdout",
     "output_type": "stream",
     "text": [
      "Switched to region us-south\n",
      "\n",
      "Targeted Cloud Foundry (https://api.us-south.cf.cloud.ibm.com)\n",
      "\n",
      "Targeted org saimoom_026@yahoo.com\n",
      "\n",
      "\n",
      "                      \n",
      "API endpoint:      https://cloud.ibm.com   \n",
      "Region:            us-south   \n",
      "User:              saimoom_026@yahoo.com   \n",
      "Account:           Memorial University of Newfoundland (ac3c862b72bd49ebb4d0f14243491070) <-> 2002648   \n",
      "Resource group:    No resource group targeted, use 'ibmcloud target -g RESOURCE_GROUP'   \n",
      "CF API endpoint:   https://api.us-south.cf.cloud.ibm.com (API version: 2.142.0)   \n",
      "Org:               saimoom_026@yahoo.com   \n",
      "Space:                \n",
      "\n",
      "Tip: If you are managing Cloud Foundry applications and services\n",
      "- Use 'ibmcloud target --cf' to target Cloud Foundry org/space interactively, or use 'ibmcloud target --cf-api ENDPOINT -o ORG -s SPACE' to target the org/space.\n",
      "- Use 'ibmcloud cf' if you want to run the Cloud Foundry CLI with current IBM Cloud CLI context.\n",
      "\n",
      "Creating space computer-vision-app in org saimoom_026@yahoo.com as saimoom_026@yahoo.com...\n",
      "OK\n",
      "Assigning role SpaceManager to user saimoom_026@yahoo.com in org saimoom_026@yahoo.com / space computer-vision-app as saimoom_026@yahoo.com...\n",
      "OK\n",
      "Assigning role SpaceDeveloper to user saimoom_026@yahoo.com in org saimoom_026@yahoo.com / space computer-vision-app as saimoom_026@yahoo.com...\n",
      "OK\n"
     ]
    }
   ],
   "source": [
    "%%bash\n",
    "ibmcloud target --cf-api https://api.us-south.cf.cloud.ibm.com -r us-south -o saimoom_026@yahoo.com\n",
    "ibmcloud account space-create computer-vision-app"
   ]
  },
  {
   "cell_type": "markdown",
   "metadata": {},
   "source": [
    "<p>After the above code cell finishes execution, run the code cell below </p> "
   ]
  },
  {
   "cell_type": "code",
   "execution_count": 93,
   "metadata": {},
   "outputs": [
    {
     "name": "stdout",
     "output_type": "stream",
     "text": [
      "Targeted space computer-vision-app\n",
      "\n",
      "\n",
      "                      \n",
      "API endpoint:      https://cloud.ibm.com   \n",
      "Region:            us-south   \n",
      "User:              saimoom_026@yahoo.com   \n",
      "Account:           Memorial University of Newfoundland (ac3c862b72bd49ebb4d0f14243491070) <-> 2002648   \n",
      "Resource group:    No resource group targeted, use 'ibmcloud target -g RESOURCE_GROUP'   \n",
      "CF API endpoint:   https://api.us-south.cf.cloud.ibm.com (API version: 2.142.0)   \n",
      "Org:               saimoom_026@yahoo.com   \n",
      "Space:             computer-vision-app   \n"
     ]
    }
   ],
   "source": [
    "%%bash\n",
    "ibmcloud target -s computer-vision-app"
   ]
  },
  {
   "cell_type": "markdown",
   "metadata": {},
   "source": [
    "<p> Finally, run the code cell below to push your app to IBM Cloud. <b>Kindly run the code cell below. The cell might take a few minutes to run</b> </p>"
   ]
  },
  {
   "cell_type": "code",
   "execution_count": 94,
   "metadata": {},
   "outputs": [
    {
     "name": "stdout",
     "output_type": "stream",
     "text": [
      "Invoking 'cf push'...\n",
      "\n",
      "Pushing from manifest to org saimoom_026@yahoo.com / space computer-vision-app as saimoom_026@yahoo.com...\n",
      "Using manifest file /resources/labs/CV0101EN/CV0101EN-capstone-project/app/manifest.yml\n",
      "Getting app info...\n",
      "Creating app with these attributes...\n",
      "+ name:       visual recognition of furnitures\n",
      "  path:       /resources/labs/CV0101EN/CV0101EN-capstone-project/app\n",
      "+ memory:     128M\n",
      "  routes:\n",
      "+   visual-recognition-of-furnitures.mybluemix.net\n",
      "\n",
      "Creating app visual recognition of furnitures...\n",
      "Mapping routes...\n",
      "Comparing local files to remote cache...\n",
      "Packaging files to upload...\n",
      "Uploading files...\n",
      " 14.77 KiB / 14.77 KiB  100.00% 1s\n",
      "\n",
      "Waiting for API to complete processing files...\n",
      "\n",
      "Staging app and tracing logs...\n",
      "   Downloading liberty-for-java_v3_38-20191031-1433...\n",
      "   Downloading noop-buildpack...\n",
      "   Downloading liberty-for-java...\n",
      "   Downloading ruby_buildpack...\n",
      "   Downloading swift_buildpack_v2_0_18-20190303-1915...\n",
      "   Downloaded liberty-for-java\n",
      "   Downloading xpages_buildpack...\n",
      "   Downloaded ruby_buildpack\n",
      "   Downloading liberty_v3_14-20171013-1023...\n",
      "   Downloaded swift_buildpack_v2_0_18-20190303-1915\n",
      "   Downloading staticfile_buildpack...\n",
      "   Downloaded liberty-for-java_v3_38-20191031-1433\n",
      "   Downloading swift_buildpack_v2_0_20-20190401-2122...\n",
      "   Downloaded noop-buildpack\n",
      "   Downloading java_buildpack...\n",
      "   Downloaded liberty_v3_14-20171013-1023\n",
      "   Downloading nodejs_buildpack...\n",
      "   Downloaded xpages_buildpack\n",
      "   Downloading dotnet-core...\n",
      "   Downloaded swift_buildpack_v2_0_20-20190401-2122\n",
      "   Downloading go_buildpack...\n",
      "   Downloaded staticfile_buildpack\n",
      "   Downloading sdk-for-nodejs...\n",
      "   Downloaded java_buildpack\n",
      "   Downloading python_buildpack...\n",
      "   Downloaded dotnet-core\n",
      "   Downloading swift_buildpack...\n",
      "   Downloaded go_buildpack\n",
      "   Downloading php_buildpack...\n",
      "   Downloaded nodejs_buildpack\n",
      "   Downloading binary_buildpack...\n",
      "   Downloaded sdk-for-nodejs\n",
      "   Downloading swift_buildpack_cflinuxfs3_v2_1_0-20190404-1206...\n",
      "   Downloaded python_buildpack\n",
      "   Downloading dotnet-core_v2_3-20190609-2145...\n",
      "   Downloaded swift_buildpack\n",
      "   Downloading dotnet-core_v2_4-20190912-1554...\n",
      "   Downloaded binary_buildpack\n",
      "   Downloading sdk-for-nodejs_v3_28-20190722-1336...\n",
      "   Downloaded dotnet-core_v2_3-20190609-2145\n",
      "   Downloading sdk-for-nodejs_v4_0_1-20190930-1425...\n",
      "   Downloaded php_buildpack\n",
      "   Downloading nginx_buildpack...\n",
      "   Downloaded swift_buildpack_cflinuxfs3_v2_1_0-20190404-1206\n",
      "   Downloading r_buildpack...\n",
      "   Downloaded sdk-for-nodejs_v3_28-20190722-1336\n",
      "   Downloading liberty-for-java_v3_36-20190905-1704...\n",
      "   Downloaded dotnet-core_v2_4-20190912-1554\n",
      "   Downloaded nginx_buildpack\n",
      "   Downloaded sdk-for-nodejs_v4_0_1-20190930-1425\n",
      "   Downloaded r_buildpack\n",
      "   Downloaded liberty-for-java_v3_36-20190905-1704\n",
      "   Cell 92c15bcd-6a8b-452c-93b9-f67a7c6e4b41 creating container for instance 2211398c-3bbd-4e77-9f60-1a6cc5d7d9a1\n",
      "   Cell 92c15bcd-6a8b-452c-93b9-f67a7c6e4b41 successfully created container for instance 2211398c-3bbd-4e77-9f60-1a6cc5d7d9a1\n",
      "   Downloading app package...\n",
      "   Downloaded app package (14.8K)\n",
      "   -----> Python Buildpack version 1.6.36\n",
      "   -----> Supplying Python\n",
      "   -----> Installing python 3.6.8\n",
      "          Download [https://buildpacks.cloudfoundry.org/dependencies/python/python-3.6.8-linux-x64-cflinuxfs3-0e8b91a8.tgz]\n",
      "          \u001b[31;1m**WARNING**\u001b[0m A newer version of python is available in this buildpack. Please adjust your app to use version 3.6.9 instead of version 3.6.8 as soon as possible. Old versions of python are only provided to assist in migrating to newer versions.\n",
      "   -----> Installing pip-pop 0.1.3\n",
      "          Download [https://buildpacks.cloudfoundry.org/dependencies/manual-binaries/pip-pop/pip-pop-0.1.3-fc106ef6.tar.gz]\n",
      "   -----> Running Pip Install\n",
      "          Collecting Flask==1.0.3 (from -r /tmp/app/requirements.txt (line 1))\n",
      "            Downloading https://files.pythonhosted.org/packages/9a/74/670ae9737d14114753b8c8fdf2e8bd212a05d3b361ab15b44937dfd40985/Flask-1.0.3-py2.py3-none-any.whl (92kB)\n",
      "          Collecting Flask-WTF==0.14.2 (from -r /tmp/app/requirements.txt (line 2))\n",
      "            Downloading https://files.pythonhosted.org/packages/60/3a/58c629472d10539ae5167dc7c1fecfa95dd7d0b7864623931e3776438a24/Flask_WTF-0.14.2-py2.py3-none-any.whl\n",
      "          Collecting ibm-watson==4.0.1 (from -r /tmp/app/requirements.txt (line 3))\n",
      "            Downloading https://files.pythonhosted.org/packages/d0/30/6e444a420b533b53e6b8ab4318ce1a9b19662067515aca0351403bdb615c/ibm-watson-4.0.1.tar.gz (297kB)\n",
      "          Collecting python-dotenv==0.10.3 (from -r /tmp/app/requirements.txt (line 4))\n",
      "            Downloading https://files.pythonhosted.org/packages/57/c8/5b14d5cffe7bb06bedf9d66c4562bf90330d3d35e7f0266928c370d9dd6d/python_dotenv-0.10.3-py2.py3-none-any.whl\n",
      "          Collecting click>=5.1 (from Flask==1.0.3->-r /tmp/app/requirements.txt (line 1))\n",
      "            Downloading https://files.pythonhosted.org/packages/fa/37/45185cb5abbc30d7257104c434fe0b07e5a195a6847506c074527aa599ec/Click-7.0-py2.py3-none-any.whl (81kB)\n",
      "          Collecting Werkzeug>=0.14 (from Flask==1.0.3->-r /tmp/app/requirements.txt (line 1))\n",
      "            Downloading https://files.pythonhosted.org/packages/ce/42/3aeda98f96e85fd26180534d36570e4d18108d62ae36f87694b476b83d6f/Werkzeug-0.16.0-py2.py3-none-any.whl (327kB)\n",
      "          Collecting itsdangerous>=0.24 (from Flask==1.0.3->-r /tmp/app/requirements.txt (line 1))\n",
      "            Downloading https://files.pythonhosted.org/packages/76/ae/44b03b253d6fade317f32c24d100b3b35c2239807046a4c953c7b89fa49e/itsdangerous-1.1.0-py2.py3-none-any.whl\n",
      "          Collecting Jinja2>=2.10 (from Flask==1.0.3->-r /tmp/app/requirements.txt (line 1))\n",
      "            Downloading https://files.pythonhosted.org/packages/65/e0/eb35e762802015cab1ccee04e8a277b03f1d8e53da3ec3106882ec42558b/Jinja2-2.10.3-py2.py3-none-any.whl (125kB)\n",
      "          Collecting WTForms (from Flask-WTF==0.14.2->-r /tmp/app/requirements.txt (line 2))\n",
      "            Downloading https://files.pythonhosted.org/packages/9f/c8/dac5dce9908df1d9d48ec0e26e2a250839fa36ea2c602cc4f85ccfeb5c65/WTForms-2.2.1-py2.py3-none-any.whl (166kB)\n",
      "          Collecting requests<3.0,>=2.0 (from ibm-watson==4.0.1->-r /tmp/app/requirements.txt (line 3))\n",
      "            Downloading https://files.pythonhosted.org/packages/51/bd/23c926cd341ea6b7dd0b2a00aba99ae0f828be89d72b2190f27c11d4b7fb/requests-2.22.0-py2.py3-none-any.whl (57kB)\n",
      "          Collecting python_dateutil>=2.5.3 (from ibm-watson==4.0.1->-r /tmp/app/requirements.txt (line 3))\n",
      "            Downloading https://files.pythonhosted.org/packages/d4/70/d60450c3dd48ef87586924207ae8907090de0b306af2bce5d134d78615cb/python_dateutil-2.8.1-py2.py3-none-any.whl (227kB)\n",
      "          Collecting websocket-client==0.48.0 (from ibm-watson==4.0.1->-r /tmp/app/requirements.txt (line 3))\n",
      "            Downloading https://files.pythonhosted.org/packages/8a/a1/72ef9aa26cfe1a75cee09fc1957e4723add9de098c15719416a1ee89386b/websocket_client-0.48.0-py2.py3-none-any.whl (198kB)\n",
      "          Collecting ibm_cloud_sdk_core==1.0.0 (from ibm-watson==4.0.1->-r /tmp/app/requirements.txt (line 3))\n",
      "            Downloading https://files.pythonhosted.org/packages/e8/43/a13a5956c69b7becce7a0df6d2340c1e32322df3b39f57a3b33dc4645a34/ibm-cloud-sdk-core-1.0.0.tar.gz\n",
      "          Collecting MarkupSafe>=0.23 (from Jinja2>=2.10->Flask==1.0.3->-r /tmp/app/requirements.txt (line 1))\n",
      "            Downloading https://files.pythonhosted.org/packages/b2/5f/23e0023be6bb885d00ffbefad2942bc51a620328ee910f64abe5a8d18dd1/MarkupSafe-1.1.1-cp36-cp36m-manylinux1_x86_64.whl\n",
      "          Collecting certifi>=2017.4.17 (from requests<3.0,>=2.0->ibm-watson==4.0.1->-r /tmp/app/requirements.txt (line 3))\n",
      "            Downloading https://files.pythonhosted.org/packages/b9/63/df50cac98ea0d5b006c55a399c3bf1db9da7b5a24de7890bc9cfd5dd9e99/certifi-2019.11.28-py2.py3-none-any.whl (156kB)\n",
      "          Collecting idna<2.9,>=2.5 (from requests<3.0,>=2.0->ibm-watson==4.0.1->-r /tmp/app/requirements.txt (line 3))\n",
      "            Downloading https://files.pythonhosted.org/packages/14/2c/cd551d81dbe15200be1cf41cd03869a46fe7226e7450af7a6545bfc474c9/idna-2.8-py2.py3-none-any.whl (58kB)\n",
      "          Collecting chardet<3.1.0,>=3.0.2 (from requests<3.0,>=2.0->ibm-watson==4.0.1->-r /tmp/app/requirements.txt (line 3))\n",
      "            Downloading https://files.pythonhosted.org/packages/bc/a9/01ffebfb562e4274b6487b4bb1ddec7ca55ec7510b22e4c51f14098443b8/chardet-3.0.4-py2.py3-none-any.whl (133kB)\n",
      "          Collecting urllib3!=1.25.0,!=1.25.1,<1.26,>=1.21.1 (from requests<3.0,>=2.0->ibm-watson==4.0.1->-r /tmp/app/requirements.txt (line 3))\n",
      "            Downloading https://files.pythonhosted.org/packages/b4/40/a9837291310ee1ccc242ceb6ebfd9eb21539649f193a7c8c86ba15b98539/urllib3-1.25.7-py2.py3-none-any.whl (125kB)\n",
      "          Collecting six>=1.5 (from python_dateutil>=2.5.3->ibm-watson==4.0.1->-r /tmp/app/requirements.txt (line 3))\n",
      "            Downloading https://files.pythonhosted.org/packages/65/26/32b8464df2a97e6dd1b656ed26b2c194606c16fe163c695a992b36c11cdf/six-1.13.0-py2.py3-none-any.whl\n",
      "          Collecting PyJWT>=1.7.1 (from ibm_cloud_sdk_core==1.0.0->ibm-watson==4.0.1->-r /tmp/app/requirements.txt (line 3))\n",
      "            Downloading https://files.pythonhosted.org/packages/87/8b/6a9f14b5f781697e51259d81657e6048fd31a113229cf346880bb7545565/PyJWT-1.7.1-py2.py3-none-any.whl\n",
      "          Installing collected packages: click, Werkzeug, itsdangerous, MarkupSafe, Jinja2, Flask, WTForms, Flask-WTF, certifi, idna, chardet, urllib3, requests, six, python-dateutil, websocket-client, PyJWT, ibm-cloud-sdk-core, ibm-watson, python-dotenv\n",
      "            The script flask is installed in '/tmp/contents307239436/deps/0/python/bin' which is not on PATH.\n",
      "            Consider adding this directory to PATH or, if you prefer to suppress this warning, use --no-warn-script-location.\n",
      "            The script chardetect is installed in '/tmp/contents307239436/deps/0/python/bin' which is not on PATH.\n",
      "            Consider adding this directory to PATH or, if you prefer to suppress this warning, use --no-warn-script-location.\n",
      "            Running setup.py install for ibm-cloud-sdk-core: started\n",
      "            The script pyjwt is installed in '/tmp/contents307239436/deps/0/python/bin' which is not on PATH.\n",
      "            Consider adding this directory to PATH or, if you prefer to suppress this warning, use --no-warn-script-location.\n",
      "              Running setup.py install for ibm-cloud-sdk-core: finished with status 'done'\n",
      "            Running setup.py install for ibm-watson: started\n",
      "              Running setup.py install for ibm-watson: finished with status 'done'\n",
      "            The script dotenv is installed in '/tmp/contents307239436/deps/0/python/bin' which is not on PATH.\n",
      "            Consider adding this directory to PATH or, if you prefer to suppress this warning, use --no-warn-script-location.\n",
      "          Successfully installed Flask-1.0.3 Flask-WTF-0.14.2 Jinja2-2.10.3 MarkupSafe-1.1.1 PyJWT-1.7.1 WTForms-2.2.1 Werkzeug-0.16.0 certifi-2019.11.28 chardet-3.0.4 click-7.0 ibm-cloud-sdk-core-1.0.0 ibm-watson-4.0.1 idna-2.8 itsdangerous-1.1.0 python-dateutil-2.8.1 python-dotenv-0.10.3 requests-2.22.0 six-1.13.0 urllib3-1.25.7 websocket-client-0.48.0\n",
      "          You are using pip version 18.1, however version 19.3.1 is available.\n",
      "          You should consider upgrading via the 'pip install --upgrade pip' command.\n",
      "   Exit status 0\n",
      "   Uploading droplet, build artifacts cache...\n",
      "   Uploading build artifacts cache...\n",
      "   Uploading droplet...\n",
      "   Uploaded build artifacts cache (50.4M)\n",
      "   Uploaded droplet (51.9M)\n",
      "   Uploading complete\n",
      "   Cell 92c15bcd-6a8b-452c-93b9-f67a7c6e4b41 stopping instance 2211398c-3bbd-4e77-9f60-1a6cc5d7d9a1\n",
      "   Cell 92c15bcd-6a8b-452c-93b9-f67a7c6e4b41 destroying container for instance 2211398c-3bbd-4e77-9f60-1a6cc5d7d9a1\n",
      "\n",
      "Waiting for app to start...\n",
      "   Cell 92c15bcd-6a8b-452c-93b9-f67a7c6e4b41 successfully destroyed container for instance 2211398c-3bbd-4e77-9f60-1a6cc5d7d9a1\n",
      "\n",
      "name:              visual recognition of furnitures\n",
      "requested state:   started\n",
      "routes:            visual-recognition-of-furnitures.mybluemix.net\n",
      "last uploaded:     Tue 10 Dec 11:05:42 UTC 2019\n",
      "stack:             cflinuxfs3\n",
      "buildpacks:        python\n",
      "\n",
      "type:            web\n",
      "instances:       1/1\n",
      "memory usage:    128M\n",
      "start command:   python3 server.py\n",
      "     state     since                  cpu    memory          disk           details\n",
      "#0   running   2019-12-10T11:06:07Z   0.0%   25.8M of 128M   188.3M of 1G   \n",
      "\n"
     ]
    }
   ],
   "source": [
    "%%bash\n",
    "cd /resources/labs/CV0101EN/CV0101EN-capstone-project/app\n",
    "ibmcloud app push"
   ]
  },
  {
   "cell_type": "markdown",
   "metadata": {},
   "source": [
    "<br>After the above code cell finishes execution, you will see the following output towards the bottom. Kindly **_note_** the route as this will be the route you will be sharing with your peers for peer evaluation\n",
    "\n",
    "\n",
    "<img src=\"https://s3-api.us-geo.objectstorage.softlayer.net/cf-courses-data/CognitiveClass/CV0101/Images/app-routes.png\" width=\"680\">\n",
    "\n",
    "<br>\n",
    "Log into your IBM Cloud Account with the following link - <a href=\"https://cocl.us/CV0101EN_IBM_Cloud_Login\">https://cloud.ibm.com</a>\n",
    "\n",
    "<br>\n",
    "<p> After logging in, Click on Cloud Foundry Apps and you will see your web app deployed to IBM Cloud. Click on it, and click on <b>Visit App URL</b> </p>\n",
    "\n",
    "<br>\n",
    "<img src=\"https://s3-api.us-geo.objectstorage.softlayer.net/cf-courses-data/CognitiveClass/CV0101/Images/cv_project_1.png\" width=\"680\">\n",
    "\n",
    "<img src=\"https://s3-api.us-geo.objectstorage.softlayer.net/cf-courses-data/CognitiveClass/CV0101/Images/cv_project_2.png\" width=\"680\">\n",
    "\n",
    "<img src=\"https://s3-api.us-geo.objectstorage.softlayer.net/cf-courses-data/CognitiveClass/CV0101/Images/cv_project_3.png\" width=\"680\">\n",
    "\n"
   ]
  },
  {
   "cell_type": "markdown",
   "metadata": {},
   "source": [
    "<p>The <b>Visit App URL</b> link in cloud foundry contains the url to your Visual Recognition app</p>\n",
    "\n",
    "<p>The url takes you to a webpage where you can upload a picture of a <b>Table</b>, <b>Bed</b> or <b>Chair</b> and it should classify the picture in their respective category with a confidence score.</p>\n",
    "\n",
    "<img src=\"https://s3-api.us-geo.objectstorage.softlayer.net/cf-courses-data/CognitiveClass/CV0101/Images/cv_project_4.png\" width=\"680\">\n"
   ]
  },
  {
   "cell_type": "markdown",
   "metadata": {},
   "source": [
    "\n",
    "<br>\n",
    "<p> <b> You can share this url (should be the same as the route that you noted earlier) with your peers for them to evaluate your custom classifier </b> </p>\n",
    "<h1>Note!</h1>\n",
    "<p>You app will be only able to classify image file in .gif, .jpg, .png and .tif format, and will not return any result if the image is in any other format.</p>\n",
    "    \n",
    "<h4>Kindly upload a single image at a time to the web app<h4>"
   ]
  },
  {
   "cell_type": "markdown",
   "metadata": {},
   "source": [
    "<h1>Note!</h1>\n",
    "\n",
    "If for some reason you want to redeploy your app with certain changes, **_ONLY_** execute the following cell again. **There is no need to rerun the entire notebook**\n",
    "\n",
    "<br>\n",
    "<img src=\"https://s3-api.us-geo.objectstorage.softlayer.net/cf-courses-data/CognitiveClass/CV0101/Images/redeploy-app.png\" width=\"680\">\n",
    "\n",
    "<br>\n",
    "Sample scenarios when you might want to redeploy your app:\n",
    "<br>\n",
    "<ol>\n",
    "<li> You entered the api key / classifier id of your classifier incorrectly in <code>config.py</code> </li>\n",
    "<li> You want to redeploy your app with a new name. If you redeploy your app with a new name, kindly make sure you are sharing the correct url for the web app with your peers</li>\n",
    "</ol>\n"
   ]
  },
  {
   "cell_type": "markdown",
   "metadata": {},
   "source": [
    "<h2>Thank you for completing this notebook!</h2>"
   ]
  },
  {
   "cell_type": "markdown",
   "metadata": {},
   "source": [
    "<div class=\"alert alert-block alert-info\" style=\"margin-top: 20px\">\n",
    "<h2>Get IBM Watson Studio free of charge!</h2>\n",
    "<p><a href=\"https://cocl.us/NotebooksPython101bottom\"><img src=\"https://s3-api.us-geo.objectstorage.softlayer.net/cf-courses-data/CognitiveClass/CV0101/Logo/BottomAd.png\" width=\"750\" align=\"center\"></a></p>\n",
    "</div>"
   ]
  },
  {
   "cell_type": "markdown",
   "metadata": {},
   "source": [
    "<h3>About the Authors:</h3>\n",
    "<p>This lab was written by <a href=\"https://www.linkedin.com/in/sacchitchadha/\" target=\"_blank\" >Sacchit Chadha</a>, and <a href=\"https://www.linkedin.com/in/yi-leng-yao-84451275/\" target=\"_blank\" >Yi Yao</a>.</p>\n",
    "<p><a href=\"https://www.linkedin.com/in/sacchitchadha/\" target=\"_blank\">Sacchit Chadha</a> is a Software Engineer at IBM, and is currently pursuing a Bachelors Degree in Computer Science from the University of Waterloo. His work at IBM focused on Computer Vision, Cloud Computing and Blockchain.</p>\n",
    "<p><a href=\"https://www.linkedin.com/in/yi-leng-yao-84451275/\" target=\"_blank\">Yi Yao</a> is a Data Scientist and Software Engineer at IBM, and holds a Masters in Statistics. His research focused on Cloud Computing, Machine Learning and Computer Vision.</p>"
   ]
  },
  {
   "cell_type": "markdown",
   "metadata": {},
   "source": [
    "<hr>\n",
    "<p>Copyright &copy; 2019 IBM Developer Skills Network. This notebook and its source code are released under the terms of the <a href=\"https://cognitiveclass.ai/mit-license/\">MIT License</a>.</p>"
   ]
  }
 ],
 "metadata": {
  "kernelspec": {
   "display_name": "Python",
   "language": "python",
   "name": "conda-env-python-py"
  },
  "language_info": {
   "codemirror_mode": {
    "name": "ipython",
    "version": 3
   },
   "file_extension": ".py",
   "mimetype": "text/x-python",
   "name": "python",
   "nbconvert_exporter": "python",
   "pygments_lexer": "ipython3",
   "version": "3.6.7"
  }
 },
 "nbformat": 4,
 "nbformat_minor": 4
}
